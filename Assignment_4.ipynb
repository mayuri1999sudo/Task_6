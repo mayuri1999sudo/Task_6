{
 "cells": [
  {
   "cell_type": "code",
   "execution_count": 1,
   "id": "ba2a9d9e",
   "metadata": {},
   "outputs": [],
   "source": [
    "import numpy as np"
   ]
  },
  {
   "cell_type": "code",
   "execution_count": 4,
   "id": "63f179cd",
   "metadata": {},
   "outputs": [],
   "source": [
    "# Import phi from train data set\n",
    "phi = np.loadtxt('train.csv', dtype='float', delimiter=',', skiprows=1,\n",
    "                 usecols=tuple(range(1, 14)))"
   ]
  },
  {
   "cell_type": "code",
   "execution_count": 6,
   "id": "89ccb1be",
   "metadata": {},
   "outputs": [],
   "source": [
    "# Import phi_test from test data set\n",
    "phi_test = np.loadtxt('test.csv', dtype='float', delimiter=',',\n",
    "                      skiprows=1, usecols=tuple(range(1, 14)))"
   ]
  },
  {
   "cell_type": "code",
   "execution_count": 8,
   "id": "5e7a83cf",
   "metadata": {},
   "outputs": [],
   "source": [
    "y = np.loadtxt('train.csv', dtype='float', delimiter=',', skiprows=1,\n",
    "               usecols=14, ndmin=2)"
   ]
  },
  {
   "cell_type": "code",
   "execution_count": 9,
   "id": "34164083",
   "metadata": {},
   "outputs": [],
   "source": [
    "phi_test = np.concatenate((phi_test, np.ones((105, 1))), axis=1)\n",
    "phi = np.concatenate((phi, np.ones((400, 1))), axis=1)"
   ]
  },
  {
   "cell_type": "code",
   "execution_count": 10,
   "id": "6f85535c",
   "metadata": {},
   "outputs": [],
   "source": [
    "for i in range(0, 13):\n",
    "    col_max = max(phi[:, i])\n",
    "    col_min = min(phi[:, i])\n",
    "    phi[:, i] = (phi[:, i] - col_min) / (col_max - col_min)\n",
    "    phi_test[:, i] = (phi_test[:, i] - col_min) / (col_max - col_min)"
   ]
  },
  {
   "cell_type": "code",
   "execution_count": 11,
   "id": "596a9202",
   "metadata": {},
   "outputs": [],
   "source": [
    "y = np.log(y)"
   ]
  },
  {
   "cell_type": "code",
   "execution_count": 12,
   "id": "0e0fb278",
   "metadata": {},
   "outputs": [],
   "source": [
    "def delta_w(p, phi, w):\n",
    "    if p == 2:\n",
    "        deltaw = (2 * (np.dot(np.dot(np.transpose(phi), phi), w) -\n",
    "                       np.dot(np.transpose(phi), y)) +\n",
    "                  lambd * p * np.power(np.absolute(w), (p - 1)))\n",
    "    if p < 2 and p > 1:\n",
    "        deltaw = (2 * (np.dot(np.dot(np.transpose(phi), phi), w) -\n",
    "                       np.dot(np.transpose(phi), y)) +\n",
    "                  lambd * p * np.power(np.absolute(w), (p - 1)) * np.sign(w))\n",
    "    return deltaw"
   ]
  },
  {
   "cell_type": "code",
   "execution_count": 13,
   "id": "3de69d7b",
   "metadata": {},
   "outputs": [],
   "source": [
    "filenames = {'output.csv': 2.0,\n",
    "             'output_p1.csv': 1.75,\n",
    "             'output_p2.csv': 1.5,\n",
    "             'output_p3.csv': 1.3\n",
    "             }"
   ]
  },
  {
   "cell_type": "code",
   "execution_count": 14,
   "id": "02fbc07d",
   "metadata": {},
   "outputs": [],
   "source": [
    "for (fname, p) in filenames.items():\n",
    "    w = np.zeros((14, 1))"
   ]
  },
  {
   "cell_type": "code",
   "execution_count": 15,
   "id": "8c53e824",
   "metadata": {},
   "outputs": [],
   "source": [
    "lambd = 0.2\n",
    "t = 0.00012 #Max step size"
   ]
  },
  {
   "cell_type": "code",
   "execution_count": 16,
   "id": "5f3c2606",
   "metadata": {},
   "outputs": [],
   "source": [
    "w_new = w - t * delta_w(p, phi, w)"
   ]
  },
  {
   "cell_type": "code",
   "execution_count": 17,
   "id": "2c48ce72",
   "metadata": {},
   "outputs": [],
   "source": [
    "i = 0\n",
    "while(np.linalg.norm(w_new-w) > 10 ** -10):\n",
    "        w = w_new\n",
    "        w_new = w - t * delta_w(p, phi, w)\n",
    "        i = i + 1"
   ]
  },
  {
   "cell_type": "code",
   "execution_count": 19,
   "id": "05cbee1f",
   "metadata": {},
   "outputs": [],
   "source": [
    "id_test = np.loadtxt('test.csv', dtype='int', delimiter=',',\n",
    "                         skiprows=1, usecols=0, ndmin=2)"
   ]
  },
  {
   "cell_type": "code",
   "execution_count": 20,
   "id": "b5beb310",
   "metadata": {},
   "outputs": [],
   "source": [
    "y_test = np.exp(np.dot(phi_test, w_new))"
   ]
  },
  {
   "cell_type": "code",
   "execution_count": 21,
   "id": "bc12fd97",
   "metadata": {},
   "outputs": [],
   "source": [
    "np.savetxt(fname, np.concatenate((id_test, y_test), axis=1),\n",
    "               delimiter=',', fmt=['%d', '%f'], header='ID,MEDV', comments='')"
   ]
  },
  {
   "cell_type": "code",
   "execution_count": null,
   "id": "f450256b",
   "metadata": {},
   "outputs": [],
   "source": []
  }
 ],
 "metadata": {
  "kernelspec": {
   "display_name": "Python 3 (ipykernel)",
   "language": "python",
   "name": "python3"
  },
  "language_info": {
   "codemirror_mode": {
    "name": "ipython",
    "version": 3
   },
   "file_extension": ".py",
   "mimetype": "text/x-python",
   "name": "python",
   "nbconvert_exporter": "python",
   "pygments_lexer": "ipython3",
   "version": "3.9.12"
  }
 },
 "nbformat": 4,
 "nbformat_minor": 5
}
